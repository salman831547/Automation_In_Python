{
 "metadata": {
  "language_info": {
   "codemirror_mode": {
    "name": "ipython",
    "version": 3
   },
   "file_extension": ".py",
   "mimetype": "text/x-python",
   "name": "python",
   "nbconvert_exporter": "python",
   "pygments_lexer": "ipython3",
   "version": "3.7.9-final"
  },
  "orig_nbformat": 2,
  "kernelspec": {
   "name": "Python 3.7.9 64-bit ('Scrapy_Tutorials')",
   "display_name": "Python 3.7.9 64-bit ('Scrapy_Tutorials')",
   "metadata": {
    "interpreter": {
     "hash": "e3a3dd12b0b34f44825dbdca45290078411386a9f575f32ad84507d5be2a1d2f"
    }
   }
  }
 },
 "nbformat": 4,
 "nbformat_minor": 2,
 "cells": [
  {
   "cell_type": "code",
   "execution_count": null,
   "metadata": {},
   "outputs": [],
   "source": [
    "from helium import *\n",
    "start_chrome()\n",
    "go_to('https://www.youtube.com')\n",
    "click('Sign in')\n",
    "write('salman831547',into='Email or phone')\n",
    "click('Next')\n",
    "write('Micromaxa106',into='Enter your password')\n",
    "click('Next')\n",
    "while True:\n",
    "    try:\n",
    "        skip= driver.find_element_by_class_name('ytp-ad-skip-button-container')\n",
    "        skip.click()\n",
    "\n",
    "    except:\n",
    "        continue"
   ]
  },
  {
   "cell_type": "code",
   "execution_count": null,
   "metadata": {},
   "outputs": [],
   "source": []
  }
 ]
}