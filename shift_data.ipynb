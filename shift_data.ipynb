{
 "metadata": {
  "language_info": {
   "codemirror_mode": {
    "name": "ipython",
    "version": 3
   },
   "file_extension": ".py",
   "mimetype": "text/x-python",
   "name": "python",
   "nbconvert_exporter": "python",
   "pygments_lexer": "ipython3",
   "version": "3.7.9-final"
  },
  "orig_nbformat": 2,
  "kernelspec": {
   "name": "Python 3.7.9 64-bit ('Scrapy_Tutorials')",
   "display_name": "Python 3.7.9 64-bit ('Scrapy_Tutorials')",
   "metadata": {
    "interpreter": {
     "hash": "e3a3dd12b0b34f44825dbdca45290078411386a9f575f32ad84507d5be2a1d2f"
    }
   }
  }
 },
 "nbformat": 4,
 "nbformat_minor": 2,
 "cells": [
  {
   "cell_type": "code",
   "execution_count": null,
   "metadata": {
    "tags": []
   },
   "outputs": [],
   "source": [
    "import pandas as pd\n",
    "import numpy as np\n",
    "import matplotlib.pyplot as plt\n",
    "\n",
    "file_1=r'C:\\Users\\Sayyad Manzil\\Desktop\\shift-data.xlsx'\n",
    "file_2=r'C:\\Users\\Sayyad Manzil\\Desktop\\third-shift-data.xlsx'\n",
    "\n",
    "df_sheet_1=pd.read_excel(file_1,sheet_name='first',usecols= ['Name', 'Product', 'Production Run Time (Min)',     'Products Produced (Units)'])\n",
    "df_sheet_2=pd.read_excel(file_1,sheet_name='second')\n",
    "df_sheet_3=pd.read_excel(file_2)\n",
    "print(df_sheet_1)"
   ]
  },
  {
   "cell_type": "code",
   "execution_count": null,
   "metadata": {},
   "outputs": [],
   "source": [
    "df_all=pd.concat([df_sheet_1,df_sheet_2,df_sheet_3])#concat all columns with the same name.\n",
    "df_all"
   ]
  },
  {
   "cell_type": "code",
   "execution_count": null,
   "metadata": {
    "tags": []
   },
   "outputs": [],
   "source": [
    "pivot=df_all.groupby(['Shift']).mean()\n",
    "shift_productivity=pivot.loc[:,'Production Run Time (Min)':'Products Produced (Units)']\n",
    "print(shift_productivity)"
   ]
  },
  {
   "cell_type": "code",
   "execution_count": null,
   "metadata": {},
   "outputs": [],
   "source": [
    "shift_productivity.plot(kind='bar')\n",
    "plt.show()"
   ]
  },
  {
   "cell_type": "code",
   "execution_count": null,
   "metadata": {},
   "outputs": [],
   "source": [
    "df_all.to_excel(r'C:\\Users\\Sayyad Manzil\\Desktop\\all_shift_data.xlsx')"
   ]
  },
  {
   "cell_type": "code",
   "execution_count": null,
   "metadata": {},
   "outputs": [],
   "source": [
    "df_all.shape[1]"
   ]
  },
  {
   "cell_type": "code",
   "execution_count": null,
   "metadata": {},
   "outputs": [],
   "source": [
    "import os\n",
    "os.getcwd()"
   ]
  },
  {
   "cell_type": "code",
   "execution_count": null,
   "metadata": {},
   "outputs": [],
   "source": [
    "df_sheet_1"
   ]
  },
  {
   "cell_type": "code",
   "execution_count": 22,
   "metadata": {},
   "outputs": [
    {
     "output_type": "execute_result",
     "data": {
      "text/plain": "[&#39;salman&#39;, &#39;is&#39;, &#39;name&#39;, &#39;my&#39;]"
     },
     "metadata": {},
     "execution_count": 22
    }
   ],
   "source": [
    "list_1=['my','name','is','salman']\n",
    "list_1[::-1]"
   ]
  },
  {
   "cell_type": "code",
   "execution_count": null,
   "metadata": {
    "tags": []
   },
   "outputs": [],
   "source": [
    "name='salman sayyad'\n",
    "name"
   ]
  },
  {
   "cell_type": "code",
   "execution_count": 32,
   "metadata": {
    "tags": []
   },
   "outputs": [
    {
     "output_type": "stream",
     "name": "stdout",
     "text": "45\n"
    }
   ],
   "source": [
    "from functools import reduce\n",
    "numbers=[0,1,2,3,4,5,6,7,8,9]\n",
    "even=reduce(lambda a,b:a+b,numbers)\n",
    "print(even)"
   ]
  },
  {
   "cell_type": "code",
   "execution_count": null,
   "metadata": {},
   "outputs": [],
   "source": []
  }
 ]
}